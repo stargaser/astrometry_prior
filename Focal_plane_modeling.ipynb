{
 "cells": [
  {
   "cell_type": "markdown",
   "metadata": {},
   "source": [
    "# Modeling the focal plane of a large-format groundbased astronomical imaging instrument"
   ]
  },
  {
   "cell_type": "markdown",
   "metadata": {},
   "source": [
    "This notebook shows how to fit data from a large-format camera with a parsimonious model that accounts for the optical distortion terms and chip gaps.\n",
    "\n",
    "**Author**: David Shupe, Caltech/IPAC\n",
    "\n",
    "Refer to: SciPy 2018 talk"
   ]
  },
  {
   "cell_type": "markdown",
   "metadata": {},
   "source": [
    "Here are the steps:\n",
    "\n",
    "1. Retrieve a set of PSF-fit catalogs from public ZTF data, for a single exposure.\n",
    "2. Combine these catalogs into a single table with five columns for RA & Dec, local x-pixel and y-pixel, and chip number.\n",
    "3. Use the statsmodels package to fit a model with terms for chip gaps, small rotations between chips, and overall optical distortion.\n",
    "4. Write out a `.ahead` file for use with SCAMP from the Astromatic suite."
   ]
  },
  {
   "cell_type": "markdown",
   "metadata": {},
   "source": [
    "## Imports (all here to make sure we have them)"
   ]
  },
  {
   "cell_type": "code",
   "execution_count": 7,
   "metadata": {},
   "outputs": [],
   "source": [
    "import numpy as np\n",
    "from astropy.io import fits\n",
    "from astropy.table import Table\n",
    "from astropy.wcs import WCS\n",
    "from astropy.utils.data import download_file\n",
    "import pandas as pd\n",
    "import statsmodels.formula.api as smf\n",
    "import matplotlib.pyplot as plt\n",
    "import seaborn as sns"
   ]
  },
  {
   "cell_type": "markdown",
   "metadata": {},
   "source": [
    "## Download catalogs for a single science exposure for an extragalactic field"
   ]
  },
  {
   "cell_type": "markdown",
   "metadata": {},
   "source": [
    "We need a ZTF exposure that is public and that contains data for all 64 quadrants.\n",
    "\n",
    "Data meeting these requirements are available at https://irsa.ipac.caltech.edu/ibe/data/ztf/products/sci/2019/0408/164213/"
   ]
  },
  {
   "cell_type": "code",
   "execution_count": 18,
   "metadata": {},
   "outputs": [],
   "source": [
    "template_url = ('https://irsa.ipac.caltech.edu/ibe/data/ztf/products/sci/2019/0408' +\n",
    "                 '/164213/ztf_20190408164213_000747_zr_c01_o_q1_psfcat.fits')"
   ]
  },
  {
   "cell_type": "markdown",
   "metadata": {},
   "source": [
    "Download the image corresponding to the template catalog and extract some metadata"
   ]
  },
  {
   "cell_type": "code",
   "execution_count": 19,
   "metadata": {},
   "outputs": [],
   "source": [
    "sci_header = fits.getheader(template_url.replace('_psfcat.fits', '_sciimg.fits'))"
   ]
  },
  {
   "cell_type": "code",
   "execution_count": 14,
   "metadata": {},
   "outputs": [
    {
     "data": {
      "text/plain": [
       "110.128"
      ]
     },
     "execution_count": 14,
     "metadata": {},
     "output_type": "execute_result"
    }
   ],
   "source": [
    "sci_header.get('TELRAD')"
   ]
  },
  {
   "cell_type": "code",
   "execution_count": 15,
   "metadata": {},
   "outputs": [
    {
     "data": {
      "text/plain": [
       "47.7503"
      ]
     },
     "execution_count": 15,
     "metadata": {},
     "output_type": "execute_result"
    }
   ],
   "source": [
    "sci_header.get('TELDECD')"
   ]
  },
  {
   "cell_type": "markdown",
   "metadata": {},
   "source": [
    "Make a WCS with a projection center at  crval1=TELRAD, crval2=TELDECD, with cdelt1 = cdelt2 = 1.0 degrees and a TAN projection."
   ]
  },
  {
   "cell_type": "code",
   "execution_count": 17,
   "metadata": {},
   "outputs": [],
   "source": [
    "proj_wcs = WCS(naxis=2)\n",
    "proj_wcs.wcs.ctype = ['RA---TAN', 'DEC--TAN']\n",
    "proj_wcs.wcs.crval = [sci_header.get('TELRAD'), sci_header.get('TELDECD')]\n",
    "proj_wcs.wcs.cdelt = [1.0, 1.0] # one degree per \"pixel\"\n",
    "proj_wcs.wcs.crpix = [4.5, 4.5]\n",
    "proj_wcs.array_shape = [8, 8] # NAXIS2, NAXIS1"
   ]
  },
  {
   "cell_type": "markdown",
   "metadata": {},
   "source": [
    "Use the template catalog to download and get columns from all the PSF catalogs."
   ]
  },
  {
   "cell_type": "code",
   "execution_count": 20,
   "metadata": {},
   "outputs": [],
   "source": [
    "psfcat = Table.read(download_file(template_url), format='fits')"
   ]
  },
  {
   "cell_type": "code",
   "execution_count": 21,
   "metadata": {},
   "outputs": [
    {
     "data": {
      "text/plain": [
       "<TableColumns names=('sourceid','xpos','ypos','ra','dec','flux','sigflux','mag','sigmag','snr','chi','sharp','flags')>"
      ]
     },
     "execution_count": 21,
     "metadata": {},
     "output_type": "execute_result"
    }
   ],
   "source": [
    "psfcat.columns"
   ]
  },
  {
   "cell_type": "code",
   "execution_count": 25,
   "metadata": {},
   "outputs": [],
   "source": [
    "xvals = []\n",
    "yvals = []\n",
    "etavals = []\n",
    "nuvals = []\n",
    "rcids = []\n",
    "ras = []\n",
    "decs = []\n",
    "\n",
    "for ccd in range(1, 17):\n",
    "    for quadrant in range(1, 5):\n",
    "        psf_url = template_url.replace('_c01_o_q1_psfcat.fits', f'_c{ccd:02}_o_q{quadrant:01}_psfcat.fits')\n",
    "        fname = download_file(psf_url, cache=True)\n",
    "        header = fits.getheader(fname)\n",
    "        tab = Table.read(fname, format='fits')\n",
    "        plane_coords = proj_wcs.wcs_world2pix(np.vstack([tab['ra'],tab['dec']]).T, 1)\n",
    "        rcids.append(header['rcid']*np.ones_like(tab['ra']))\n",
    "        xvals.append(tab['xpos'])\n",
    "        yvals.append(tab['ypos'])\n",
    "        etavals.append(plane_coords[:,0])\n",
    "        nuvals.append(plane_coords[:,1])\n",
    "        ras.append(tab['ra'])\n",
    "        decs.append(tab['dec'])\n"
   ]
  },
  {
   "cell_type": "markdown",
   "metadata": {},
   "source": [
    "## Fit a linear model"
   ]
  },
  {
   "cell_type": "code",
   "execution_count": null,
   "metadata": {},
   "outputs": [],
   "source": []
  },
  {
   "cell_type": "code",
   "execution_count": null,
   "metadata": {},
   "outputs": [],
   "source": []
  },
  {
   "cell_type": "markdown",
   "metadata": {},
   "source": [
    "## Form global pixel coordinates and fit a quadratic model"
   ]
  },
  {
   "cell_type": "code",
   "execution_count": null,
   "metadata": {},
   "outputs": [],
   "source": []
  },
  {
   "cell_type": "code",
   "execution_count": null,
   "metadata": {},
   "outputs": [],
   "source": []
  },
  {
   "cell_type": "markdown",
   "metadata": {},
   "source": [
    "## Output a .ahead file for SCAMP"
   ]
  }
 ],
 "metadata": {
  "kernelspec": {
   "display_name": "Python 3",
   "language": "python",
   "name": "python3"
  },
  "language_info": {
   "codemirror_mode": {
    "name": "ipython",
    "version": 3
   },
   "file_extension": ".py",
   "mimetype": "text/x-python",
   "name": "python",
   "nbconvert_exporter": "python",
   "pygments_lexer": "ipython3",
   "version": "3.7.4"
  }
 },
 "nbformat": 4,
 "nbformat_minor": 4
}
