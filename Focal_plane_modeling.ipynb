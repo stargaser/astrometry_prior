{
 "cells": [
  {
   "cell_type": "markdown",
   "metadata": {},
   "source": [
    "# Modeling the focal plane of a large-format groundbased astronomical imaging instrument"
   ]
  },
  {
   "cell_type": "markdown",
   "metadata": {},
   "source": [
    "This notebook shows how to fit data from a large-format camera with a parsimonious model that accounts for the optical distortion terms and chip gaps.\n",
    "\n",
    "**Author**: David Shupe, Caltech/IPAC\n",
    "\n",
    "Refer to: SciPy 2018 talk"
   ]
  },
  {
   "cell_type": "markdown",
   "metadata": {},
   "source": [
    "Here are the steps:\n",
    "\n",
    "1. Retrieve a set of PSF-fit catalogs from public ZTF data, for a single exposure.\n",
    "2. Combine these catalogs into a single table with five columns for RA & Dec, local x-pixel and y-pixel, and chip number.\n",
    "3. Use the statsmodels package to fit a model with terms for chip gaps, small rotations between chips, and overall optical distortion.\n",
    "4. Write out a `.ahead` file for use with SCAMP from the Astromatic suite."
   ]
  },
  {
   "cell_type": "markdown",
   "metadata": {},
   "source": [
    "## Imports (all here to make sure we have them)"
   ]
  },
  {
   "cell_type": "code",
   "execution_count": null,
   "metadata": {},
   "outputs": [],
   "source": [
    "import numpy as np\n",
    "from astropy.io import fits\n",
    "from astropy.table import Table\n",
    "from astropy.wcs import WCS\n",
    "from astropy.utils.data import download_file\n",
    "import pandas as pd\n",
    "import statsmodels.formula.api as smf\n",
    "import matplotlib.pyplot as plt\n",
    "import seaborn as sns"
   ]
  },
  {
   "cell_type": "markdown",
   "metadata": {},
   "source": [
    "## Download catalogs for a single science exposure for an extragalactic field"
   ]
  },
  {
   "cell_type": "markdown",
   "metadata": {},
   "source": [
    "We need a ZTF exposure that is public and that contains data for all 64 quadrants.\n",
    "\n",
    "Data meeting these requirements are available at https://irsa.ipac.caltech.edu/ibe/data/ztf/products/sci/2019/0408/164213/"
   ]
  },
  {
   "cell_type": "code",
   "execution_count": null,
   "metadata": {},
   "outputs": [],
   "source": [
    "template_url = ('https://irsa.ipac.caltech.edu/ibe/data/ztf/products/sci/2019/0408' +\n",
    "                 '/164213/ztf_20190408164213_000747_zr_c01_o_q1_psfcat.fits')"
   ]
  },
  {
   "cell_type": "markdown",
   "metadata": {},
   "source": [
    "Download the image corresponding to the template catalog and extract some metadata"
   ]
  },
  {
   "cell_type": "code",
   "execution_count": null,
   "metadata": {},
   "outputs": [],
   "source": [
    "sci_header = fits.getheader(template_url.replace('_psfcat.fits', '_sciimg.fits'))"
   ]
  },
  {
   "cell_type": "code",
   "execution_count": null,
   "metadata": {},
   "outputs": [],
   "source": [
    "sci_header.get('TELRAD')"
   ]
  },
  {
   "cell_type": "code",
   "execution_count": null,
   "metadata": {},
   "outputs": [],
   "source": [
    "sci_header.get('TELDECD')"
   ]
  },
  {
   "cell_type": "markdown",
   "metadata": {},
   "source": [
    "Make a WCS with a projection center at  crval1=TELRAD, crval2=TELDECD, with cdelt1 = cdelt2 = 1.0 degrees and a TAN projection."
   ]
  },
  {
   "cell_type": "code",
   "execution_count": null,
   "metadata": {},
   "outputs": [],
   "source": [
    "proj_wcs = WCS(naxis=2)\n",
    "proj_wcs.wcs.ctype = ['RA---TAN', 'DEC--TAN']\n",
    "proj_wcs.wcs.crval = [sci_header.get('TELRAD'), sci_header.get('TELDECD')]\n",
    "proj_wcs.wcs.cdelt = [1.0, 1.0] # one degree per \"pixel\"\n",
    "proj_wcs.wcs.crpix = [4.5, 4.5]\n",
    "proj_wcs.array_shape = [8, 8] # NAXIS2, NAXIS1"
   ]
  },
  {
   "cell_type": "markdown",
   "metadata": {},
   "source": [
    "Use the template catalog to download and get columns from all the PSF catalogs."
   ]
  },
  {
   "cell_type": "code",
   "execution_count": null,
   "metadata": {},
   "outputs": [],
   "source": [
    "psfcat = Table.read(download_file(template_url), format='fits')"
   ]
  },
  {
   "cell_type": "code",
   "execution_count": null,
   "metadata": {},
   "outputs": [],
   "source": [
    "psfcat.columns"
   ]
  },
  {
   "cell_type": "markdown",
   "metadata": {},
   "source": [
    "Get the data for all 64 quadrants aka readout channels"
   ]
  },
  {
   "cell_type": "code",
   "execution_count": null,
   "metadata": {},
   "outputs": [],
   "source": [
    "xvals = []\n",
    "yvals = []\n",
    "etavals = []\n",
    "nuvals = []\n",
    "rcids = []\n",
    "ras = []\n",
    "decs = []\n",
    "\n",
    "for ccd in range(1, 17):\n",
    "    for quadrant in range(1, 5):\n",
    "        psf_url = template_url.replace('_c01_o_q1_psfcat.fits', f'_c{ccd:02}_o_q{quadrant:01}_psfcat.fits')\n",
    "        fname = download_file(psf_url, cache=True)\n",
    "        header = fits.getheader(fname)\n",
    "        tab = Table.read(fname, format='fits')\n",
    "        plane_coords = proj_wcs.wcs_world2pix(np.vstack([tab['ra'], tab['dec']]).T, 1)\n",
    "        rcids.append(header['rcid']*np.ones_like(tab['ra']))\n",
    "        xvals.append(tab['xpos'])\n",
    "        yvals.append(tab['ypos'])\n",
    "        etavals.append(plane_coords[:,0])\n",
    "        nuvals.append(plane_coords[:,1])\n",
    "        ras.append(tab['ra'])\n",
    "        decs.append(tab['dec'])\n"
   ]
  },
  {
   "cell_type": "code",
   "execution_count": null,
   "metadata": {},
   "outputs": [],
   "source": [
    "x_image = np.hstack(xvals)\n",
    "y_image = np.hstack(yvals)\n",
    "rcid = np.array(np.hstack(rcids), dtype=np.int32)\n",
    "eta = np.hstack(etavals)\n",
    "nu = np.hstack(nuvals)\n",
    "ra = np.hstack(ras)\n",
    "dec = np.hstack(decs)"
   ]
  },
  {
   "cell_type": "markdown",
   "metadata": {},
   "source": [
    "The table we need is five columns and contains the matched stars"
   ]
  },
  {
   "cell_type": "code",
   "execution_count": null,
   "metadata": {},
   "outputs": [],
   "source": [
    "df = pd.DataFrame({'rcid':rcid, 'x_image':x_image, 'y_image':y_image,\n",
    "                   'eta':eta, 'nu':nu, 'ra':ra, 'dec':dec})"
   ]
  },
  {
   "cell_type": "markdown",
   "metadata": {},
   "source": [
    "Note that `x_image` and `y_image` are in the FITS convention and are local to each quadrant"
   ]
  },
  {
   "cell_type": "code",
   "execution_count": null,
   "metadata": {},
   "outputs": [],
   "source": [
    "df.head()"
   ]
  },
  {
   "cell_type": "markdown",
   "metadata": {},
   "source": [
    "How many stars do we have?"
   ]
  },
  {
   "cell_type": "code",
   "execution_count": null,
   "metadata": {},
   "outputs": [],
   "source": [
    "len(df)"
   ]
  },
  {
   "cell_type": "markdown",
   "metadata": {},
   "source": [
    "At this point one could make a cut in magnitude..."
   ]
  },
  {
   "cell_type": "markdown",
   "metadata": {},
   "source": [
    "## Fit a linear model"
   ]
  },
  {
   "cell_type": "markdown",
   "metadata": {},
   "source": [
    "We first fit a linear model so that we can get first-order chip gaps that will allow us to define a global pixel coordinate."
   ]
  },
  {
   "cell_type": "markdown",
   "metadata": {},
   "source": [
    "Do the \"eta\" direction first (aligned with Right Ascension)."
   ]
  },
  {
   "cell_type": "code",
   "execution_count": null,
   "metadata": {},
   "outputs": [],
   "source": [
    "xmod = smf.ols(formula='eta ~ x_image + y_image + C(rcid) -1 + ' +\n",
    "               'C(rcid)*x_image + C(rcid)*y_image ', data=df)"
   ]
  },
  {
   "cell_type": "markdown",
   "metadata": {},
   "source": [
    "Fit."
   ]
  },
  {
   "cell_type": "code",
   "execution_count": null,
   "metadata": {},
   "outputs": [],
   "source": [
    "xres = xmod.fit()"
   ]
  },
  {
   "cell_type": "code",
   "execution_count": null,
   "metadata": {},
   "outputs": [],
   "source": [
    "print(xres.summary())"
   ]
  },
  {
   "cell_type": "code",
   "execution_count": null,
   "metadata": {},
   "outputs": [],
   "source": [
    "print(xres.summary())"
   ]
  },
  {
   "cell_type": "markdown",
   "metadata": {},
   "source": [
    "Fit the \"nu\" direction which is aligned with Declination."
   ]
  },
  {
   "cell_type": "code",
   "execution_count": null,
   "metadata": {},
   "outputs": [],
   "source": [
    "ymod = smf.ols(formula='nu ~ x_image + y_image + C(rcid) -1 + ' +\n",
    "               'C(rcid)*x_image + C(rcid)*y_image ', data=df)"
   ]
  },
  {
   "cell_type": "code",
   "execution_count": null,
   "metadata": {},
   "outputs": [],
   "source": [
    "yres = ymod.fit()"
   ]
  },
  {
   "cell_type": "code",
   "execution_count": null,
   "metadata": {},
   "outputs": [],
   "source": [
    "print(yres.summary())"
   ]
  },
  {
   "cell_type": "markdown",
   "metadata": {},
   "source": [
    "What is our \"global CD matrix\"?"
   ]
  },
  {
   "cell_type": "code",
   "execution_count": null,
   "metadata": {},
   "outputs": [],
   "source": [
    "print(xres.params.get('x_image'), xres.params.get('y_image'))\n",
    "print(yres.params.get('x_image'), yres.params.get('y_image'))\n"
   ]
  },
  {
   "cell_type": "markdown",
   "metadata": {},
   "source": [
    "Make a dictionary of the parameters for the linear fit."
   ]
  },
  {
   "cell_type": "code",
   "execution_count": null,
   "metadata": {},
   "outputs": [],
   "source": [
    "rcmeta = {}\n",
    "for i in range(64):\n",
    "    cd11 = xres.params.get('x_image')\n",
    "    cd12 = xres.params.get('y_image')\n",
    "    cd21 = yres.params.get('x_image')\n",
    "    cd22 = yres.params.get('y_image')\n",
    "    if i > 0:\n",
    "        cd11 += xres.params.get('C(rcid)[T.{}]:x_image'.format(i))\n",
    "        cd12 += xres.params.get('C(rcid)[T.{}]:y_image'.format(i))\n",
    "        cd21 += yres.params.get('C(rcid)[T.{}]:x_image'.format(i))\n",
    "        cd22 += yres.params.get('C(rcid)[T.{}]:y_image'.format(i))\n",
    "    cd = np.matrix([[cd11, cd12], [cd21, cd22]])\n",
    "    invcd = cd**-1\n",
    "    offset_degrees = np.matrix([[-xres.params.get('C(rcid)[{}]'.format(i))],\n",
    "                           [-yres.params.get('C(rcid)[{}]'.format(i))]])\n",
    "    offset_pix = invcd*offset_degrees\n",
    "    rcmeta[i] = dict(cd11=float(cd11), cd12=float(cd12), cd21=float(cd21), cd22=float(cd22),\n",
    "                     crpix1=float(offset_pix.item(0)), crpix2=float(offset_pix.item(1)))\n",
    "    "
   ]
  },
  {
   "cell_type": "markdown",
   "metadata": {},
   "source": [
    "What do our residuals look like? Express these as arcseconds."
   ]
  },
  {
   "cell_type": "code",
   "execution_count": null,
   "metadata": {},
   "outputs": [],
   "source": [
    "df['etaresid'] = xres.resid*3600\n",
    "df['nuresid'] = yres.resid*3600"
   ]
  },
  {
   "cell_type": "markdown",
   "metadata": {},
   "source": [
    "Plot the x-residuals for all 64 quadrants."
   ]
  },
  {
   "cell_type": "code",
   "execution_count": null,
   "metadata": {},
   "outputs": [],
   "source": [
    "%matplotlib inline\n",
    "gx1 = sns.FacetGrid(df, col=\"rcid\", col_wrap=4, \n",
    "                    height=6, aspect=1)\n",
    "gx1.map(plt.scatter, \"x_image\", \"etaresid\", color=\"#334488\", edgecolor=\"white\", lw=.5)\n",
    "gx1.set(ylim=(-5,5))"
   ]
  },
  {
   "cell_type": "markdown",
   "metadata": {},
   "source": [
    "Plot the y-residuals for all 64 quadrants."
   ]
  },
  {
   "cell_type": "code",
   "execution_count": null,
   "metadata": {},
   "outputs": [],
   "source": [
    "%matplotlib inline\n",
    "gy1 = sns.FacetGrid(df, col=\"rcid\", col_wrap=4, \n",
    "                    height=6, aspect=1)\n",
    "gy1.map(plt.scatter, \"y_image\", \"nuresid\", color=\"#334488\", edgecolor=\"white\", lw=.5)\n",
    "gy1.set(ylim=(-5,5))"
   ]
  },
  {
   "cell_type": "markdown",
   "metadata": {},
   "source": [
    "## Form global pixel coordinates and fit a quadratic model"
   ]
  },
  {
   "cell_type": "code",
   "execution_count": null,
   "metadata": {},
   "outputs": [],
   "source": [
    "df['x_global'] = df['x_image']\n",
    "df['y_global'] = df['y_image']\n",
    "df['etalin'] = df['eta']\n",
    "df['nulin'] = df['nu']"
   ]
  },
  {
   "cell_type": "code",
   "execution_count": null,
   "metadata": {},
   "outputs": [],
   "source": [
    "for i in  range(64):\n",
    "    df.loc[df.rcid==i, 'x_global'] = df.loc[df.rcid==i, 'x_image'] - rcmeta[i]['crpix1']\n",
    "    df.loc[df.rcid==i, 'y_global'] = df.loc[df.rcid==i, 'y_image'] - rcmeta[i]['crpix2']\n",
    "    df.loc[df.rcid==i, 'etalin'] = (df.loc[df.rcid==i, 'x_global']*rcmeta[i]['cd11'] +\n",
    "                                    df.loc[df.rcid==i, 'y_global']*rcmeta[i]['cd12'])\n",
    "    df.loc[df.rcid==i, 'nulin'] = (df.loc[df.rcid==i, 'x_global']*rcmeta[i]['cd21'] +\n",
    "                                    df.loc[df.rcid==i, 'y_global']*rcmeta[i]['cd22'])"
   ]
  },
  {
   "cell_type": "code",
   "execution_count": null,
   "metadata": {},
   "outputs": [],
   "source": [
    "df.head()"
   ]
  },
  {
   "cell_type": "markdown",
   "metadata": {},
   "source": [
    "Now do a fit to our new \"global pixel coordinates\" that is quadratic to account for the optical distortion."
   ]
  },
  {
   "cell_type": "code",
   "execution_count": null,
   "metadata": {},
   "outputs": [],
   "source": [
    "xmod = smf.ols(formula='eta ~ np.power(etalin,2) + np.power(nulin,2) + ' + \n",
    "               'etalin*nulin + etalin + nulin' , data=df)"
   ]
  },
  {
   "cell_type": "code",
   "execution_count": null,
   "metadata": {},
   "outputs": [],
   "source": [
    "xres = xmod.fit()"
   ]
  },
  {
   "cell_type": "code",
   "execution_count": null,
   "metadata": {},
   "outputs": [],
   "source": [
    "print(xres.summary())"
   ]
  },
  {
   "cell_type": "code",
   "execution_count": null,
   "metadata": {},
   "outputs": [],
   "source": [
    "ymod = smf.ols(formula='nu ~ np.power(etalin,2) + np.power(nulin,2) + ' + \n",
    "               'etalin*nulin + etalin + nulin', data=df)"
   ]
  },
  {
   "cell_type": "code",
   "execution_count": null,
   "metadata": {},
   "outputs": [],
   "source": [
    "yres = ymod.fit()"
   ]
  },
  {
   "cell_type": "code",
   "execution_count": null,
   "metadata": {},
   "outputs": [],
   "source": [
    "print(yres.summary())\n",
    "\n"
   ]
  },
  {
   "cell_type": "markdown",
   "metadata": {},
   "source": [
    "What are the residuals now?"
   ]
  },
  {
   "cell_type": "code",
   "execution_count": null,
   "metadata": {},
   "outputs": [],
   "source": [
    "df['etaresid2'] = xres.resid*3600\n",
    "df['nuresid2'] = yres.resid*3600"
   ]
  },
  {
   "cell_type": "code",
   "execution_count": null,
   "metadata": {},
   "outputs": [],
   "source": [
    "%matplotlib inline\n",
    "gx1 = sns.FacetGrid(df, col=\"rcid\", col_wrap=4, \n",
    "                    height=6, aspect=1)\n",
    "gx1.map(plt.scatter, \"x_image\", \"etaresid2\", color=\"#334488\", edgecolor=\"white\", lw=.5)\n",
    "gx1.set(ylim=(-5,5))"
   ]
  },
  {
   "cell_type": "code",
   "execution_count": null,
   "metadata": {},
   "outputs": [],
   "source": [
    "%matplotlib inline\n",
    "gy1 = sns.FacetGrid(df, col=\"rcid\", col_wrap=4, \n",
    "                    height=6, aspect=1)\n",
    "gy1.map(plt.scatter, \"y_image\", \"nuresid2\", color=\"#334488\", edgecolor=\"white\", lw=.5)\n",
    "gy1.set(ylim=(-5,5))"
   ]
  },
  {
   "cell_type": "markdown",
   "metadata": {},
   "source": [
    "PV1_4 is x^2, PV1_5 is xy, PV1_6 is y^2\n",
    "\n",
    "PV2_4 is y^2, PV2_5 is xy, PV2_6 is x^2"
   ]
  },
  {
   "cell_type": "code",
   "execution_count": null,
   "metadata": {},
   "outputs": [],
   "source": [
    "pv_start = dict(PV1_1 = float(xres.params.get('etalin')),\n",
    "               PV1_2 = float(xres.params.get('nulin')),\n",
    "               PV1_4 = float(xres.params.get('np.power(etalin, 2)')),\n",
    "               PV1_5 = float(xres.params.get('etalin:nulin')),\n",
    "               PV1_6 = float(xres.params.get('np.power(nulin, 2)')),\n",
    "               PV2_1 = float(yres.params.get('nulin')),\n",
    "               PV2_2 = float(yres.params.get('etalin')),\n",
    "               PV2_4 = float(yres.params.get('np.power(nulin, 2)')),\n",
    "               PV2_5 = float(yres.params.get('etalin:nulin')),\n",
    "               PV2_6 = float(yres.params.get('np.power(etalin, 2)'))\n",
    "            )"
   ]
  },
  {
   "cell_type": "markdown",
   "metadata": {},
   "source": [
    "Print out the TPV distortion coefficients we have derived for our prior."
   ]
  },
  {
   "cell_type": "code",
   "execution_count": null,
   "metadata": {},
   "outputs": [],
   "source": [
    "for k in sorted(pv_start.keys()):\n",
    "    print('{}: {}'.format(k,pv_start[k]))"
   ]
  },
  {
   "cell_type": "code",
   "execution_count": null,
   "metadata": {},
   "outputs": [],
   "source": [
    "switches = dict(reset_crpix = True, reset_cdmatrix = True)"
   ]
  },
  {
   "cell_type": "markdown",
   "metadata": {},
   "source": [
    "Print the linear parameters that the telescope control system fills in"
   ]
  },
  {
   "cell_type": "code",
   "execution_count": null,
   "metadata": {},
   "outputs": [],
   "source": [
    "for ccdid in range(1,17):\n",
    "    for qid in [2,3,0,1]:\n",
    "        k = (ccdid-1)*4 + qid\n",
    "        print('WCSDATA=\"%2d  %d  %13.10f %13.10f %13.10f %13.10f %10.3f %10.3f 0.0\"' %\n",
    "             (ccdid, qid, rcmeta[k]['cd11'], rcmeta[k]['cd12'], rcmeta[k]['cd21'],\n",
    "              rcmeta[k]['cd22'], rcmeta[k]['crpix1'], rcmeta[k]['crpix2']))"
   ]
  },
  {
   "cell_type": "markdown",
   "metadata": {},
   "source": [
    "## Output a .ahead file for SCAMP"
   ]
  },
  {
   "cell_type": "markdown",
   "metadata": {},
   "source": [
    "Pick a quadrant and show how to output a .ahead file"
   ]
  },
  {
   "cell_type": "code",
   "execution_count": null,
   "metadata": {},
   "outputs": [],
   "source": [
    "my_rcid = 32"
   ]
  },
  {
   "cell_type": "code",
   "execution_count": null,
   "metadata": {},
   "outputs": [],
   "source": [
    "output_header = fits.Header()"
   ]
  },
  {
   "cell_type": "code",
   "execution_count": null,
   "metadata": {},
   "outputs": [],
   "source": [
    "output_header['NAXIS'] = 2\n",
    "output_header['NAXIS1'] = 3072\n",
    "output_header['NAXIS2'] = 3080\n",
    "output_header['CTYPE1'] = 'RA---TPV'\n",
    "output_header['CTYPE2'] = 'DEC--TPV'\n",
    "output_header['CRVAL1'] = sci_header['TELRAD']\n",
    "output_header['CRVAL2'] = sci_header['TELDECD']\n",
    "output_header['CRPIX1'] = rcmeta[my_rcid]['crpix1']\n",
    "output_header['CRPIX2'] = rcmeta[my_rcid]['crpix2']\n",
    "output_header['CD1_1'] = rcmeta[my_rcid]['cd11']\n",
    "output_header['CD1_2'] = rcmeta[my_rcid]['cd12']\n",
    "output_header['CD2_1'] = rcmeta[my_rcid]['cd21']\n",
    "output_header['CD2_2'] = rcmeta[my_rcid]['cd22']\n",
    "output_header['PV1_1'] = pv_start['PV1_1']\n",
    "output_header['PV1_2'] = pv_start['PV1_2']\n",
    "output_header['PV1_4'] = pv_start['PV1_4']\n",
    "output_header['PV1_5'] = pv_start['PV1_5']\n",
    "output_header['PV1_6'] = pv_start['PV1_6']\n",
    "output_header['PV2_1'] = pv_start['PV2_1']\n",
    "output_header['PV2_2'] = pv_start['PV2_2']\n",
    "output_header['PV2_4'] = pv_start['PV2_4']\n",
    "output_header['PV2_5'] = pv_start['PV2_5']\n",
    "output_header['PV2_6'] = pv_start['PV2_6']"
   ]
  },
  {
   "cell_type": "markdown",
   "metadata": {},
   "source": [
    "Output it to a file"
   ]
  },
  {
   "cell_type": "code",
   "execution_count": null,
   "metadata": {},
   "outputs": [],
   "source": [
    "output_header.totextfile(f'quadrant_{my_rcid:02}.ahead', overwrite=True)    "
   ]
  },
  {
   "cell_type": "markdown",
   "metadata": {},
   "source": [
    "Our astrometry prior is ready to be used by SCAMP!"
   ]
  },
  {
   "cell_type": "code",
   "execution_count": null,
   "metadata": {},
   "outputs": [],
   "source": []
  }
 ],
 "metadata": {
  "kernelspec": {
   "display_name": "Python 3",
   "language": "python",
   "name": "python3"
  },
  "language_info": {
   "codemirror_mode": {
    "name": "ipython",
    "version": 3
   },
   "file_extension": ".py",
   "mimetype": "text/x-python",
   "name": "python",
   "nbconvert_exporter": "python",
   "pygments_lexer": "ipython3",
   "version": "3.7.4"
  }
 },
 "nbformat": 4,
 "nbformat_minor": 4
}
